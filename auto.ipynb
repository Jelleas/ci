{
 "cells": [
  {
   "cell_type": "markdown",
   "metadata": {
    "deletable": false,
    "editable": false,
    "nbgrader": {
     "checksum": "6d1cce8a0800410c6bc18fa2018e6bb6",
     "grade": false,
     "grade_id": "cell-b276cff914998fda",
     "locked": true,
     "schema_version": 1,
     "solution": false
    }
   },
   "source": [
    "# Data Processen\n",
    "Data kan je op verschillende manieren verwerken in Python. Onder andere bij Programmeren IK heb je kennisgemaakt met de ingebouwde Python functionaliteit om een bestand te openen d.m.v. de `open()` functie. Dit ziet er zo uit:\n",
    "\n",
    "```\n",
    "with open(\"rit.tsv\", \"r\") as f:\n",
    "    # pass\n",
    "```\n",
    "\n",
    "Dit opent het bestand `rit.csv` in \"read\"-modus. Je kan er dus alleen uit lezen. Je kan het bestand ook openen in o.a. \"write\"-modus en \"append\"-modus, maar in deze opdracht is dat niet nodig.\n",
    "\n",
    "Daarnaast heb je gewerkt met databestanden door deze in te lezen via ingebouwde Python functies zoals:\n",
    "\n",
    "\n",
    "```\n",
    "with open(\"rit.tsv\", \"r\") as f:\n",
    "    for line in f:\n",
    "        print(line)\n",
    "```\n",
    "\n",
    "```\n",
    "with open(\"rit.tsv\", \"r\") as f:\n",
    "    lines = f.readlines()\n",
    "    for line in lines:\n",
    "        print(line)\n",
    "```\n",
    "\n",
    "Deze manier van inlezen past goed bij ongestructureerde textuele data zoals een boek of deze opdrachttekst. Voor gestructureerde data zoals een excel sheet of een csv-bestand werkt dit minder. Hiervoor gaan we leunen op \"the shoulders of giants\"."
   ]
  },
  {
   "cell_type": "markdown",
   "metadata": {
    "deletable": false,
    "editable": false,
    "nbgrader": {
     "checksum": "756cdf1df156bfb2a33a03b45e02fd95",
     "grade": false,
     "grade_id": "cell-25cad406462edd43",
     "locked": true,
     "schema_version": 1,
     "solution": false
    }
   },
   "source": [
    "## Pandas\n",
    "\n",
    "Allereerst vragen we je in de opdrachten hieronder jezelf bekend te maken met `pandas`. Dat is een waanzinnig populaire Python library voor Data Science. Daarbij gebruiken we het boek van de auteur van `pandas` zelf. Soms moet je een stukje lezen, maar vaak kan je het boek beter ter referentie gebruiken. Alle informatie die je nodig hebt om de opdrachten te maken kun je vinden in de pagina's waarna we verwijzen.\n",
    "\n",
    "Daarna ga je aan de slag met een grotere opdracht, het analyseren van het rijgedrag van een bestuurder op de ring.\n",
    "\n",
    "Je zult soms een `DeprecationWarning` krijgen als je het boek volgt. Dat is omdat delen van de library uitgefaseerd en geüpdate worden. Zo heet `DataFrame.ix` nu `DataFrame.loc`. Kom je zo'n waarschuwing tegen, lees hem goed en volg de aanbeveling op.\n",
    "\n",
    "Lees nu allereerst hoofdstuk 5 tot en met het kopje Series (pagina's 111 t/m 115) in [Python for Data Analysis](http://bedford-computing.co.uk/learning/wp-content/uploads/2015/10/Python-for-Data-Analysis.pdf)"
   ]
  },
  {
   "cell_type": "markdown",
   "metadata": {
    "deletable": false,
    "editable": false,
    "nbgrader": {
     "checksum": "604b94d7feec230ec552ae9097f4bafc",
     "grade": false,
     "grade_id": "cell-660bf65a6c1e4acf",
     "locked": true,
     "schema_version": 1,
     "solution": false
    }
   },
   "source": [
    "### Oefenen met Series\n",
    "Creëer een `Series` genaamd `income` van de volgende inkomensgegevens:"
   ]
  },
  {
   "cell_type": "code",
   "execution_count": null,
   "metadata": {
    "deletable": false,
    "nbgrader": {
     "checksum": "ea840bbc12ad28085eb706db987c18d4",
     "grade": false,
     "grade_id": "cell-c72531b9eb96a89d",
     "locked": false,
     "schema_version": 1,
     "solution": true
    }
   },
   "outputs": [],
   "source": [
    "from pandas import Series\n",
    "import pandas as pd\n",
    "\n",
    "income_sources = [\"sales\", \"ads\", \"subscriptions\", \"donations\"]\n",
    "income_figures = [39041, 8702, 13200, 292]\n",
    "income= None\n",
    "# YOUR CODE HERE\n",
    "raise NotImplementedError()\n",
    "income"
   ]
  },
  {
   "cell_type": "code",
   "execution_count": null,
   "metadata": {
    "deletable": false,
    "editable": false,
    "nbgrader": {
     "checksum": "b2775907351cc68d8d583ca3b1a2584e",
     "grade": true,
     "grade_id": "cell-6ea37e3250652c11",
     "locked": true,
     "points": 1,
     "schema_version": 1,
     "solution": false
    }
   },
   "outputs": [],
   "source": [
    "assert type(income) is Series, \"dit moet een series zijn\""
   ]
  },
  {
   "cell_type": "markdown",
   "metadata": {
    "deletable": false,
    "editable": false,
    "nbgrader": {
     "checksum": "9c89ea624a1a0b77f83c7f6a942e7f10",
     "grade": false,
     "grade_id": "cell-a38809af7d11eb8c",
     "locked": true,
     "schema_version": 1,
     "solution": false
    }
   },
   "source": [
    "Creëer een `Series` genaamd `outcome` van de volgende uitgaafgegevens en creëer een `Series` genaamd `profit` met de winst (income minus outcome). Maak een variabele `total_profit` met daarin de uitkomst van de som van `profit`."
   ]
  },
  {
   "cell_type": "code",
   "execution_count": null,
   "metadata": {
    "deletable": false,
    "nbgrader": {
     "checksum": "2f0a26f28e17bc05d0ea9da3fb3a3277",
     "grade": false,
     "grade_id": "cell-e72025da2bfe8774",
     "locked": false,
     "schema_version": 1,
     "solution": true
    }
   },
   "outputs": [],
   "source": [
    "outcome_sources = [\"ads\", \"sales\", \"donations\", \"subscriptions\"]\n",
    "outcome_figures = [4713, 24282, 0, 3302]\n",
    "# YOUR CODE HERE\n",
    "raise NotImplementedError()"
   ]
  },
  {
   "cell_type": "code",
   "execution_count": null,
   "metadata": {
    "deletable": false,
    "editable": false,
    "nbgrader": {
     "checksum": "549839a81525fe661d1ec4170d6d4816",
     "grade": true,
     "grade_id": "cell-834288f100b68108",
     "locked": true,
     "points": 1,
     "schema_version": 1,
     "solution": false
    }
   },
   "outputs": [],
   "source": [
    "assert type(outcome) is Series\n",
    "assert type(profit) is Series\n",
    "float(total_profit)"
   ]
  },
  {
   "cell_type": "markdown",
   "metadata": {
    "deletable": false,
    "editable": false,
    "nbgrader": {
     "checksum": "06997562a9c54af65be4254666e40a30",
     "grade": false,
     "grade_id": "cell-9053ddd1cb7302bc",
     "locked": true,
     "schema_version": 1,
     "solution": false
    }
   },
   "source": [
    "### Oefenen met DataFrames\n",
    "\n",
    "Lees verder tot en met Dataframes (pagina's 115 t/m 120) in [Python for Data Analysis](http://bedford-computing.co.uk/learning/wp-content/uploads/2015/10/Python-for-Data-Analysis.pdf)\n",
    "\n",
    "Zet de volgende tabel in een `DataFrame` genaamd `skittles` met als columns `amount` en `rating` en als index de verschillende kleuren:\n",
    "\n",
    "\n",
    "| color | amount | rating |\n",
    "|-------|--------|--------|\n",
    "| red   | 7      | 3      |\n",
    "| green | 4      | 4      |\n",
    "| blue  | 6      | 2      |\n",
    "| purple| 5      | 4      |\n",
    "| pink  | 6      | 3.5    |"
   ]
  },
  {
   "cell_type": "code",
   "execution_count": null,
   "metadata": {
    "deletable": false,
    "nbgrader": {
     "checksum": "97293a37ae437e81d5697b285a8fd2c2",
     "grade": false,
     "grade_id": "cell-c527fc939eb2226f",
     "locked": false,
     "schema_version": 1,
     "solution": true
    }
   },
   "outputs": [],
   "source": [
    "from pandas import DataFrame\n",
    "\n",
    "# YOUR CODE HERE\n",
    "raise NotImplementedError()"
   ]
  },
  {
   "cell_type": "code",
   "execution_count": null,
   "metadata": {
    "deletable": false,
    "editable": false,
    "nbgrader": {
     "checksum": "7546b2e581a13faf0c2fd9f2d663e844",
     "grade": true,
     "grade_id": "cell-30203ec8e38d5d74",
     "locked": true,
     "points": 1,
     "schema_version": 1,
     "solution": false
    }
   },
   "outputs": [],
   "source": [
    "assert type(skittles) is DataFrame"
   ]
  },
  {
   "cell_type": "markdown",
   "metadata": {
    "deletable": false,
    "editable": false,
    "nbgrader": {
     "checksum": "34e50acaf4df09405dc0d5c44c76f084",
     "grade": false,
     "grade_id": "cell-4f7ae026fdc526d1",
     "locked": true,
     "schema_version": 1,
     "solution": false
    }
   },
   "source": [
    "Sla de gemiddelde rating van de skittles op in een variabele `skittles_average`"
   ]
  },
  {
   "cell_type": "code",
   "execution_count": null,
   "metadata": {
    "deletable": false,
    "nbgrader": {
     "checksum": "fd9c582440979a01bfb2ed4f4b8090ad",
     "grade": false,
     "grade_id": "cell-a3695c6967e717e3",
     "locked": false,
     "schema_version": 1,
     "solution": true
    }
   },
   "outputs": [],
   "source": [
    "# YOUR CODE HERE\n",
    "raise NotImplementedError()"
   ]
  },
  {
   "cell_type": "code",
   "execution_count": null,
   "metadata": {
    "deletable": false,
    "editable": false,
    "nbgrader": {
     "checksum": "3218bcaabc8cc73b3cd7787fa4c49e40",
     "grade": true,
     "grade_id": "cell-271d2516720b0f8c",
     "locked": true,
     "points": 1,
     "schema_version": 1,
     "solution": false
    }
   },
   "outputs": [],
   "source": [
    "float(skittles_average)"
   ]
  },
  {
   "cell_type": "markdown",
   "metadata": {
    "deletable": false,
    "editable": false,
    "nbgrader": {
     "checksum": "3a1dd7e27574ea6e2b2aaa8dcfee8fcb",
     "grade": false,
     "grade_id": "cell-7aaf9fe46b16be63",
     "locked": true,
     "schema_version": 1,
     "solution": false
    }
   },
   "source": [
    "Voeg een nieuwe kolom toe genaamd `score`. De score van een kleur is gelijk aan `amount * rating`"
   ]
  },
  {
   "cell_type": "code",
   "execution_count": null,
   "metadata": {
    "deletable": false,
    "nbgrader": {
     "checksum": "63c09eb4c1575eaa32e9e0579a97ddcd",
     "grade": false,
     "grade_id": "cell-e437a96221f09a95",
     "locked": false,
     "schema_version": 1,
     "solution": true
    }
   },
   "outputs": [],
   "source": [
    "# YOUR CODE HERE\n",
    "raise NotImplementedError()"
   ]
  },
  {
   "cell_type": "code",
   "execution_count": null,
   "metadata": {
    "deletable": false,
    "editable": false,
    "nbgrader": {
     "checksum": "be6832ac98dd136a5eaee062cd03df67",
     "grade": true,
     "grade_id": "cell-cbbd57dfeb946b6d",
     "locked": true,
     "points": 1,
     "schema_version": 1,
     "solution": false
    }
   },
   "outputs": [],
   "source": [
    "skittles[\"score\"]"
   ]
  },
  {
   "cell_type": "markdown",
   "metadata": {
    "deletable": false,
    "editable": false,
    "nbgrader": {
     "checksum": "6eeaf49afd7c1360438590c51c125973",
     "grade": false,
     "grade_id": "cell-0449117929de8573",
     "locked": true,
     "schema_version": 1,
     "solution": false
    }
   },
   "source": [
    "## Oefenen met data wranglen\n",
    "\n",
    "Gebruik bij de volgende opdrachten pagina's 122 t/m 136 in [Python for Data Analysis](http://bedford-computing.co.uk/learning/wp-content/uploads/2015/10/Python-for-Data-Analysis.pdf) als naslag. Je hoeft het niet allemaal te lezen, maar ga opzoek naar de operaties die je nodig hebt."
   ]
  },
  {
   "cell_type": "markdown",
   "metadata": {
    "deletable": false,
    "editable": false,
    "nbgrader": {
     "checksum": "4f1df5b2023084cd7e091c5a784a8587",
     "grade": false,
     "grade_id": "cell-9ae59663aaa66c00",
     "locked": true,
     "schema_version": 1,
     "solution": false
    }
   },
   "source": [
    "Herindexeer het volgende dataframe op columns 'a', 'c' en 'e' met indices 10, 20, 50, 60 en sla deze weer op in de variabele `frame`."
   ]
  },
  {
   "cell_type": "code",
   "execution_count": null,
   "metadata": {
    "deletable": false,
    "nbgrader": {
     "checksum": "70920dc811a46d3291e995f30943383c",
     "grade": false,
     "grade_id": "cell-c48c87fd57b288c6",
     "locked": false,
     "schema_version": 1,
     "solution": true
    }
   },
   "outputs": [],
   "source": [
    "import numpy as np\n",
    "\n",
    "frame = DataFrame(np.arange(6*7.).reshape((6, 7)), index=[10,20,30,40,50,60], columns=list('abcdefg'))\n",
    "# YOUR CODE HERE\n",
    "raise NotImplementedError()\n",
    "frame"
   ]
  },
  {
   "cell_type": "code",
   "execution_count": null,
   "metadata": {
    "deletable": false,
    "editable": false,
    "nbgrader": {
     "checksum": "9d2786d2436118bf8b7ee1317f2b19e2",
     "grade": true,
     "grade_id": "cell-771c4edda8c99a35",
     "locked": true,
     "points": 1,
     "schema_version": 1,
     "solution": false
    }
   },
   "outputs": [],
   "source": [
    "assert type(frame) == DataFrame"
   ]
  },
  {
   "cell_type": "markdown",
   "metadata": {
    "deletable": false,
    "editable": false,
    "nbgrader": {
     "checksum": "9bb678e934c008384ac90e86d6cefb81",
     "grade": false,
     "grade_id": "cell-43bb8b7288b95538",
     "locked": true,
     "schema_version": 1,
     "solution": false
    }
   },
   "source": [
    "Zet alle waardes die deelbaar zijn door 3 in het volgende dataframe naar 0 en sla deze weer op in de variabele `frame`."
   ]
  },
  {
   "cell_type": "code",
   "execution_count": null,
   "metadata": {
    "deletable": false,
    "nbgrader": {
     "checksum": "cd57811dd5bc3ed74aa902ca23e1fff0",
     "grade": false,
     "grade_id": "cell-9184bd8c15665332",
     "locked": false,
     "schema_version": 1,
     "solution": true
    }
   },
   "outputs": [],
   "source": [
    "frame = DataFrame(np.arange(6*7).reshape((6, 7)), index=[10,20,30,40,50,60], columns=list('abcdefg'))\n",
    "# YOUR CODE HERE\n",
    "raise NotImplementedError()\n",
    "frame"
   ]
  },
  {
   "cell_type": "code",
   "execution_count": null,
   "metadata": {
    "deletable": false,
    "editable": false,
    "nbgrader": {
     "checksum": "80ccf9625170910af84f6b6dc738790b",
     "grade": true,
     "grade_id": "cell-997093a68f1ff395",
     "locked": true,
     "points": 1,
     "schema_version": 1,
     "solution": false
    }
   },
   "outputs": [],
   "source": [
    "assert type(frame) == DataFrame"
   ]
  },
  {
   "cell_type": "markdown",
   "metadata": {
    "deletable": false,
    "editable": false,
    "nbgrader": {
     "checksum": "b9fceb0d0598d4597dfe2e163b7ea17a",
     "grade": false,
     "grade_id": "cell-b8b08e9b994b5001",
     "locked": true,
     "schema_version": 1,
     "solution": false
    }
   },
   "source": [
    "Maak een variabele `series_c` met daarin het resultaat van `series_a - series_b`. Bij missende data in `series_b` gebruik je waarde 0. Zorg ervoor dat `series_c` dezelfde index kent als `series_a`"
   ]
  },
  {
   "cell_type": "code",
   "execution_count": null,
   "metadata": {
    "deletable": false,
    "nbgrader": {
     "checksum": "171c0ca6d961c30ca09fba9b63cbb37b",
     "grade": false,
     "grade_id": "cell-b20203976fb55295",
     "locked": false,
     "schema_version": 1,
     "solution": true
    }
   },
   "outputs": [],
   "source": [
    "series_a = Series([500, 400, 300, 200, 100], index=[\"a\", \"b\", \"c \", \"d\", \"e\"])\n",
    "series_b = Series([23, 46, 67, 79], index=[\"a\", \"c \", \"f\", \"g\"])\n",
    "series_c = None\n",
    "# YOUR CODE HERE\n",
    "raise NotImplementedError()\n",
    "series_c"
   ]
  },
  {
   "cell_type": "code",
   "execution_count": null,
   "metadata": {
    "deletable": false,
    "editable": false,
    "nbgrader": {
     "checksum": "76998acf6fb4c15de07991e9fdbc1646",
     "grade": true,
     "grade_id": "cell-117c388fff3f98b5",
     "locked": true,
     "points": 1,
     "schema_version": 1,
     "solution": false
    }
   },
   "outputs": [],
   "source": [
    "assert all(type(s) is Series for s in [series_a, series_b, series_c])\n",
    "pd.testing.assert_index_equal(series_a.index, series_c.index)"
   ]
  },
  {
   "cell_type": "markdown",
   "metadata": {
    "deletable": false,
    "editable": false,
    "nbgrader": {
     "checksum": "42dab5f6f926f6fa0efbfc7fce410ff4",
     "grade": false,
     "grade_id": "cell-e2e96ecda28c0fb7",
     "locked": true,
     "schema_version": 1,
     "solution": false
    }
   },
   "source": [
    "Zet alle woorden in de Series `words` om naar lowercase. Hiervoor kun je de functie `str.lower` gebruiken."
   ]
  },
  {
   "cell_type": "code",
   "execution_count": null,
   "metadata": {
    "deletable": false,
    "nbgrader": {
     "checksum": "90819024bb15ca392dfb11a43c515f13",
     "grade": false,
     "grade_id": "cell-876b2c40bd60ae89",
     "locked": false,
     "schema_version": 1,
     "solution": true
    }
   },
   "outputs": [],
   "source": [
    "words = Series([\"foo\", \"Bar\", \"baz\", \"QUX\", \"QuUuX\"])\n",
    "# YOUR CODE HERE\n",
    "raise NotImplementedError()\n",
    "words"
   ]
  },
  {
   "cell_type": "code",
   "execution_count": null,
   "metadata": {
    "deletable": false,
    "editable": false,
    "nbgrader": {
     "checksum": "d7e15cbb22018367acc2ca5261f6cb23",
     "grade": true,
     "grade_id": "cell-5975f631818cce8b",
     "locked": true,
     "points": 1,
     "schema_version": 1,
     "solution": false
    }
   },
   "outputs": [],
   "source": [
    "assert type(words) is Series"
   ]
  },
  {
   "cell_type": "markdown",
   "metadata": {
    "deletable": false,
    "editable": false,
    "nbgrader": {
     "checksum": "c14d5e303ea0d82daff3ea5c5195aba1",
     "grade": false,
     "grade_id": "cell-86f6a964bdcc8bd7",
     "locked": true,
     "schema_version": 1,
     "solution": false
    }
   },
   "source": [
    "Sorteer `frame` op aflopend (descending) op kolom `c` en sla `frame` vervolgens weer op."
   ]
  },
  {
   "cell_type": "code",
   "execution_count": null,
   "metadata": {
    "deletable": false,
    "nbgrader": {
     "checksum": "c7e9bd4e8fd10a597a7d784f91a3300a",
     "grade": false,
     "grade_id": "cell-285a4cadcdf9fe54",
     "locked": false,
     "schema_version": 1,
     "solution": true
    }
   },
   "outputs": [],
   "source": [
    "data = [['0.691074', '-1.272521', '-0.968045', '-2.066171', '-0.670358', '1.399483', '-1.148168'],\n",
    "       ['1.753780', '2.409629', '1.842674', '0.754906', '-0.115614', '0.877219', '1.599362'],\n",
    "       ['-1.411760', '1.103801', '1.216514', '0.548866', '2.255482', '-0.176342', '0.965265'],\n",
    "       ['-0.741689', '0.216645', '-0.278025', '0.777175', '0.869239', '-0.943004', '-0.140957'],\n",
    "       ['-1.585930', '1.179600', '-0.702286', '2.367875', '0.592748', '1.386158', '0.535978'],\n",
    "       ['0.584980', '0.623890', '-0.425614', '0.530479', '-1.818631', '-1.593188', '1.591233']]\n",
    "\n",
    "frame = DataFrame(data, columns=list('abcdefg'))\n",
    "# YOUR CODE HERE\n",
    "raise NotImplementedError()\n",
    "frame"
   ]
  },
  {
   "cell_type": "code",
   "execution_count": null,
   "metadata": {
    "deletable": false,
    "editable": false,
    "nbgrader": {
     "checksum": "0b55df698b48f74df4390ae48e32030b",
     "grade": true,
     "grade_id": "cell-bee314e3245a161c",
     "locked": true,
     "points": 1,
     "schema_version": 1,
     "solution": false
    }
   },
   "outputs": [],
   "source": [
    "assert type(frame) is DataFrame"
   ]
  },
  {
   "cell_type": "markdown",
   "metadata": {
    "deletable": false,
    "editable": false,
    "nbgrader": {
     "checksum": "372d2d83a6b9c2616ec90957963dbb53",
     "grade": false,
     "grade_id": "cell-a9b793dde11c3a7f",
     "locked": true,
     "schema_version": 1,
     "solution": false
    }
   },
   "source": [
    "Vul in de Series `speeds` hieronder de missende data in. Gebruik hiervoor de vorige bekende snelheid. Doe dit tot maximaal 3 datapunten na het laatst bekende punt. Verwijder vervolgens alle missende data.\n",
    "\n",
    "Kijk hiervoor even naar pagina's 145 en 146 in [Python for Data Analysis](http://bedford-computing.co.uk/learning/wp-content/uploads/2015/10/Python-for-Data-Analysis.pdf)."
   ]
  },
  {
   "cell_type": "code",
   "execution_count": null,
   "metadata": {
    "deletable": false,
    "nbgrader": {
     "checksum": "24ee438214c4f5df96f34ef63a70a7c8",
     "grade": false,
     "grade_id": "cell-90ef012424c6768e",
     "locked": false,
     "schema_version": 1,
     "solution": true
    }
   },
   "outputs": [],
   "source": [
    "speeds = Series(\n",
    "         [49, 51, None, None, 50, 48, 47, 50,\n",
    "          51, 47, 46, None, 46, 48, 48, 48,\n",
    "          None, 49, None, None, None, None,\n",
    "          None, 50, 50, 50, 51, 52, 51, 50,\n",
    "          None, 50, None, None, None, None,\n",
    "          None, 50, 49, 48, 49, None, 50, 50, 49])\n",
    "# YOUR CODE HERE\n",
    "raise NotImplementedError()\n",
    "speeds"
   ]
  },
  {
   "cell_type": "code",
   "execution_count": null,
   "metadata": {
    "deletable": false,
    "editable": false,
    "nbgrader": {
     "checksum": "97d91a2806747a806bf0388bffdcb180",
     "grade": true,
     "grade_id": "cell-560dc9741ac200a4",
     "locked": true,
     "points": 1,
     "schema_version": 1,
     "solution": false
    }
   },
   "outputs": [],
   "source": [
    "assert type(speeds) is Series"
   ]
  },
  {
   "cell_type": "markdown",
   "metadata": {
    "deletable": false,
    "editable": false,
    "nbgrader": {
     "checksum": "e0e5d1bf767e237ed7e6ada8a6adc14c",
     "grade": false,
     "grade_id": "cell-59698df0de9a9dc2",
     "locked": true,
     "schema_version": 1,
     "solution": false
    }
   },
   "source": [
    "# Rijgedrag\n",
    "Zoals je weet kent de ring van Amsterdam nog wel eens file. De gemeente wil deze files verminderen door onder andere het gebruik van het openbaar vervoer te stimuleren. Dat kan de gemeente op verschillende manieren doen, denk aan extra openbaar vervoer inzetten op verschillende trajecten en tijden, maar ook lokale campagnes om het gebruik aan te moedigen. De gemeente heeft een gelimiteerd budget en wil een weloverwogen door data gedreven keuze maken.\n",
    "\n",
    "Dus is er een team van data scientists ingehuurd om het rijgedrag op de ring te analyseren en daarvanuit een aanbeveling te doen voor het bevorderen van het gebruik van het openbaar vervoer. In samenwerking met een zeker Nederlands navigatiebedrijf is er data verzameld over het rijgedrag van individuën op de ring. Als onderdeel van de analyse worden individuën gegroepeerd op basis van gereden routes en rijgedrag. Naar aanleiding van de gevonden groepen kan er wellicht een aanbeveling gedaan worden voor een nieuwe busroute of een campagne in een bepaalde wijk van Asmterdam.\n",
    "\n",
    "Om te kunnen groeperen hebben we allereerst data nodig. Moeten we de data kunnen inlezen en verwerken. Daarna rest de taak om hier features uit te winnen waarmee we correlaties kunnen vinden. In deze opdracht ga je de gegevens van één rit inlezen, verwerken en inzichtelijk maken. Alle data van de gemaakte rit vind je in `car.tsv`."
   ]
  },
  {
   "cell_type": "markdown",
   "metadata": {
    "deletable": false,
    "editable": false,
    "nbgrader": {
     "checksum": "91ea8173743ca0b5464e36d3cad45894",
     "grade": false,
     "grade_id": "cell-f3f29748c310f761",
     "locked": true,
     "schema_version": 1,
     "solution": false
    }
   },
   "source": [
    "`car.tsv` is een tab seperated values bestand. Eigenlijk dus een `.csv`, maar dan net even met een andere verdeler. Hieronder hebben we het hele databestand voor je ingeladen door middel van de `read_csv` functie van `pandas`. Meteen daaronder zie je de eerste 5 datapunten uit het bestand. Jupyter en `pandas` werken hier fijn samen, want je ziet hier een opgemaakte tabel. "
   ]
  },
  {
   "cell_type": "code",
   "execution_count": null,
   "metadata": {
    "deletable": false,
    "editable": false,
    "nbgrader": {
     "checksum": "2e0619870ff4008b6f648a093dce5fc9",
     "grade": false,
     "grade_id": "cell-e63c91b3e1d731fe",
     "locked": true,
     "schema_version": 1,
     "solution": false
    }
   },
   "outputs": [],
   "source": [
    "# Load data\n",
    "frame = pd.read_csv(\"car.tsv\", sep=\"\\t\")\n",
    "\n",
    "# Plot the route\n",
    "frame.plot.scatter(\"long\", \"lat\")\n",
    "\n",
    "# Print the first 5 datapoints\n",
    "frame.head()"
   ]
  },
  {
   "cell_type": "markdown",
   "metadata": {
    "deletable": false,
    "editable": false,
    "nbgrader": {
     "checksum": "713e95948276ed77b650359d2dae3117",
     "grade": false,
     "grade_id": "cell-ac3e1a0452ad4ba8",
     "locked": true,
     "schema_version": 1,
     "solution": false
    }
   },
   "source": [
    "Niet alle data in `car.tsv` is even nuttig. Zo is `timestamp` gelijk aan `recordtime`! Ook hebben we bij deze opdracht niet alle kolommen nodig. Herindexeer daarom hieronder het `frame` naar kolommen `time`, `timestamp`, `lat`, `long`, `speed`, en `course`."
   ]
  },
  {
   "cell_type": "code",
   "execution_count": null,
   "metadata": {
    "deletable": false,
    "nbgrader": {
     "checksum": "d4684c1ed97befccca1aada1b05bd36c",
     "grade": false,
     "grade_id": "cell-ceff23749e02642c",
     "locked": false,
     "schema_version": 1,
     "solution": true
    }
   },
   "outputs": [],
   "source": [
    "# YOUR CODE HERE\n",
    "raise NotImplementedError()"
   ]
  },
  {
   "cell_type": "code",
   "execution_count": null,
   "metadata": {
    "deletable": false,
    "editable": false,
    "nbgrader": {
     "checksum": "dc49e090f38157082bd7d5088f6a507a",
     "grade": true,
     "grade_id": "cell-97f03b59d20182c7",
     "locked": true,
     "points": 1,
     "schema_version": 1,
     "solution": false
    }
   },
   "outputs": [],
   "source": [
    "assert type(frame) is DataFrame"
   ]
  },
  {
   "cell_type": "markdown",
   "metadata": {
    "deletable": false,
    "editable": false,
    "nbgrader": {
     "checksum": "841a193c8eb938cee0430510f88682f8",
     "grade": false,
     "grade_id": "cell-e0c149f5ec1b1303",
     "locked": true,
     "schema_version": 1,
     "solution": false
    }
   },
   "source": [
    "De originele `timestamp` uit `car.tsv` is niet precies, het stukje code hieronder maakt een nieuwe kolom `timeSpent` door het verschil te nemen in de kolom `time`. \n",
    "\n",
    "De kolom `time` zelf bestaat uit strings, dus dit moet eerst geparsed worden naar iets waar we mee kunnen rekenen. Python heeft hiervoor de ingebouwde library `datetime`. Daarin zit een functie `strptime` (lees: string parse time). De zelf geschreven functie `time_parser` doet dit werk voor je. Vervolgens wordt `time_parser` uitgevoerd voor elk datapunt in `frame[\"time\"]`. Daarna wordt `.diff()` uitgevoerd, dit neemt het verschil tussen elk punt en het voorgaande punt. Noodzakelijk vullen we dus 0 in op het eerste punt!  "
   ]
  },
  {
   "cell_type": "code",
   "execution_count": null,
   "metadata": {
    "deletable": false,
    "editable": false,
    "nbgrader": {
     "checksum": "d6d5cfb971a014bc8852b0af15948105",
     "grade": false,
     "grade_id": "cell-fa3717be4c81005b",
     "locked": true,
     "schema_version": 1,
     "solution": false
    }
   },
   "outputs": [],
   "source": [
    "from datetime import datetime\n",
    "\n",
    "def time_parser(time_string):\n",
    "    # If time_string was already parsed, skip\n",
    "    if not isinstance(time_string, str):\n",
    "        return time_string\n",
    "    # Otherwise parse\n",
    "    return datetime.strptime(time_string, \"%Y-%m-%d %H:%M:%S.%f\").timestamp()\n",
    "\n",
    "frame[\"timeSpent\"] = frame[\"time\"].map(time_parser).diff()\n",
    "frame.at[0, \"timeSpent\"] = 0\n",
    "frame.head()"
   ]
  },
  {
   "cell_type": "markdown",
   "metadata": {
    "deletable": false,
    "editable": false,
    "nbgrader": {
     "checksum": "e3b3ee2c88d6484f5d22d79d635fdc6d",
     "grade": false,
     "grade_id": "cell-b7b779bbfd596db5",
     "locked": true,
     "schema_version": 1,
     "solution": false
    }
   },
   "source": [
    "Nu we weten hoeveel tijd er is besteed en ook de snelheid op elk datapunt kan je de afgelegde afstand berekenen. Sla de afgelegde afstand (in meters) op in een variabele genaamd `distance_travelled`. Let op, de snelheid is ook al in m/s. "
   ]
  },
  {
   "cell_type": "code",
   "execution_count": null,
   "metadata": {
    "deletable": false,
    "nbgrader": {
     "checksum": "c397892aee8912c1e0d0c488f5e36002",
     "grade": false,
     "grade_id": "cell-a013441ae363c4b7",
     "locked": false,
     "schema_version": 1,
     "solution": true
    }
   },
   "outputs": [],
   "source": [
    "distance_travelled = 0\n",
    "# YOUR CODE HERE\n",
    "raise NotImplementedError()"
   ]
  },
  {
   "cell_type": "code",
   "execution_count": null,
   "metadata": {
    "deletable": false,
    "editable": false,
    "nbgrader": {
     "checksum": "6c1045fc4e3b6c63f3e685a28658e4a6",
     "grade": true,
     "grade_id": "cell-224d553f40ea23c1",
     "locked": true,
     "points": 1,
     "schema_version": 1,
     "solution": false
    }
   },
   "outputs": [],
   "source": [
    "float(distance_travelled)"
   ]
  },
  {
   "cell_type": "markdown",
   "metadata": {
    "deletable": false,
    "editable": false,
    "nbgrader": {
     "checksum": "e77a80ea684c80652fdef9130af84567",
     "grade": false,
     "grade_id": "cell-f2d5beb6df65b150",
     "locked": true,
     "schema_version": 1,
     "solution": false
    }
   },
   "source": [
    "Hoeveel percent van de tijd heeft is er langzamer dan 50 km/h gereden? Let op, de snelheid is nu in m/s. Sla dit op in een variabele genaamd `percent_below_50`. Dit moet een waarde tussen 0.0 en de 100.0 zijn!"
   ]
  },
  {
   "cell_type": "code",
   "execution_count": null,
   "metadata": {
    "deletable": false,
    "nbgrader": {
     "checksum": "e1a56cfe5a5f04778a1a3afd3a2e68c5",
     "grade": false,
     "grade_id": "cell-3e0d23f138762299",
     "locked": false,
     "schema_version": 1,
     "solution": true
    }
   },
   "outputs": [],
   "source": [
    "percent_below_50 = 0.0\n",
    "# YOUR CODE HERE\n",
    "raise NotImplementedError()"
   ]
  },
  {
   "cell_type": "code",
   "execution_count": null,
   "metadata": {
    "deletable": false,
    "editable": false,
    "nbgrader": {
     "checksum": "aca7ad45f8d9d50d5642a8914ef8a066",
     "grade": true,
     "grade_id": "cell-c1fcc9e5e1620f0c",
     "locked": true,
     "points": 1,
     "schema_version": 1,
     "solution": false
    }
   },
   "outputs": [],
   "source": [
    "float(percent_below_50)"
   ]
  },
  {
   "cell_type": "markdown",
   "metadata": {
    "deletable": false,
    "editable": false,
    "nbgrader": {
     "checksum": "9c4ee4cc3f2df676f70aa5c563723020",
     "grade": false,
     "grade_id": "cell-946e08299b92a772",
     "locked": true,
     "schema_version": 1,
     "solution": false
    }
   },
   "source": [
    "Hoeveel seconden stond de bestuurder stil (snelheid < 1m/s)? Sla het aantal seconden op in een variabele genaamd `time_waiting`."
   ]
  },
  {
   "cell_type": "code",
   "execution_count": null,
   "metadata": {
    "deletable": false,
    "nbgrader": {
     "checksum": "49927993d6b2dec08f0ebade49445242",
     "grade": false,
     "grade_id": "cell-dbfc0aed908daede",
     "locked": false,
     "schema_version": 1,
     "solution": true
    }
   },
   "outputs": [],
   "source": [
    "time_waiting = 0\n",
    "# YOUR CODE HERE\n",
    "raise NotImplementedError()"
   ]
  },
  {
   "cell_type": "code",
   "execution_count": null,
   "metadata": {
    "deletable": false,
    "editable": false,
    "nbgrader": {
     "checksum": "238aaaa24e95226bffad287c6c3257f5",
     "grade": true,
     "grade_id": "cell-a02795c05a1ee45c",
     "locked": true,
     "points": 1,
     "schema_version": 1,
     "solution": false
    }
   },
   "outputs": [],
   "source": [
    "float(time_waiting)"
   ]
  },
  {
   "cell_type": "markdown",
   "metadata": {
    "deletable": false,
    "editable": false,
    "nbgrader": {
     "checksum": "ec77e9e0970ed8ab1b7509eb174b0c6f",
     "grade": false,
     "grade_id": "cell-e3d5420b2e3e6fdb",
     "locked": true,
     "schema_version": 1,
     "solution": false
    }
   },
   "source": [
    "Waar zijn de scherpe bochten? Plot alle punten in een scatter plot waar de bestuurder meer dan 3 graden van koers is veranderd tussen twee opvolgende datapunten. Sla daarnaast het aantal seconden dat de bestuurder zich in een scherpe bocht bevond in een variabele genaamd `time_corners`.\n",
    "\n",
    "Een scatterplot maken doe je met de DataFrame methode `.plot.scatter`. Bij deze opdracht kun je de volgende aanroep gebruiken: `.plot.scatter(\"long\", \"lat\")`"
   ]
  },
  {
   "cell_type": "code",
   "execution_count": null,
   "metadata": {
    "deletable": false,
    "nbgrader": {
     "checksum": "1dfab5e627d55ea9bc17d6174e0b260a",
     "grade": false,
     "grade_id": "cell-51add8a5ca91313e",
     "locked": false,
     "schema_version": 1,
     "solution": true
    }
   },
   "outputs": [],
   "source": [
    "time_corners = 0.0\n",
    "# YOUR CODE HERE\n",
    "raise NotImplementedError()"
   ]
  },
  {
   "cell_type": "code",
   "execution_count": null,
   "metadata": {
    "deletable": false,
    "editable": false,
    "nbgrader": {
     "checksum": "80b77675c48ade6ae93f61b80a9977b9",
     "grade": true,
     "grade_id": "cell-a38e1d115e75cc13",
     "locked": true,
     "points": 1,
     "schema_version": 1,
     "solution": false
    }
   },
   "outputs": [],
   "source": [
    "float(time_corners)"
   ]
  },
  {
   "cell_type": "code",
   "execution_count": null,
   "metadata": {},
   "outputs": [],
   "source": []
  }
 ],
 "metadata": {
  "kernelspec": {
   "display_name": "Python 3",
   "language": "python",
   "name": "python3"
  },
  "language_info": {
   "codemirror_mode": {
    "name": "ipython",
    "version": 3
   },
   "file_extension": ".py",
   "mimetype": "text/x-python",
   "name": "python",
   "nbconvert_exporter": "python",
   "pygments_lexer": "ipython3",
   "version": "3.7.0"
  }
 },
 "nbformat": 4,
 "nbformat_minor": 2
}
